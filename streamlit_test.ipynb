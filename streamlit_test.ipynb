{
 "cells": [
  {
   "cell_type": "code",
   "execution_count": 3,
   "id": "4d9680f0",
   "metadata": {},
   "outputs": [],
   "source": [
    "# Import libraries\n",
    "import streamlit as st\n",
    "import pandas as pd\n",
    "import altair as alt\n",
    "import plotly.express as px\n"
   ]
  },
  {
   "cell_type": "code",
   "execution_count": 4,
   "id": "de24d30d",
   "metadata": {},
   "outputs": [
    {
     "data": {
      "text/plain": [
       "ThemeRegistry.enable('dark')"
      ]
     },
     "execution_count": 4,
     "metadata": {},
     "output_type": "execute_result"
    }
   ],
   "source": [
    "# Page configuration\n",
    "st.set_page_config(\n",
    "    page_title=\"US Population Dashboard\",\n",
    "    page_icon=\"🏂\",\n",
    "    layout=\"wide\",\n",
    "    initial_sidebar_state=\"expanded\")\n",
    "\n",
    "alt.themes.enable(\"dark\")\n"
   ]
  },
  {
   "cell_type": "code",
   "execution_count": 11,
   "id": "a2495baa",
   "metadata": {},
   "outputs": [
    {
     "data": {
      "text/plain": [
       "DeltaGenerator()"
      ]
     },
     "execution_count": 11,
     "metadata": {},
     "output_type": "execute_result"
    }
   ],
   "source": [
    "# CSS styling\n",
    "st.markdown(\"\"\"\n",
    "<style>\n",
    "\n",
    "[data-testid=\"block-container\"] {\n",
    "    padding-left: 2rem;\n",
    "    padding-right: 2rem;\n",
    "    padding-top: 1rem;\n",
    "    padding-bottom: 0rem;\n",
    "    margin-bottom: -7rem;\n",
    "}\n",
    "\n",
    "[data-testid=\"stVerticalBlock\"] {\n",
    "    padding-left: 0rem;\n",
    "    padding-right: 0rem;\n",
    "}\n",
    "\n",
    "[data-testid=\"stMetric\"] {\n",
    "    background-color: #393939;\n",
    "    text-align: center;\n",
    "    padding: 15px 0;\n",
    "}\n",
    "\n",
    "[data-testid=\"stMetricLabel\"] {\n",
    "  display: flex;\n",
    "  justify-content: center;\n",
    "  align-items: center;\n",
    "}\n",
    "\n",
    "[data-testid=\"stMetricDeltaIcon-Up\"] {\n",
    "    position: relative;\n",
    "    left: 38%;\n",
    "    -webkit-transform: translateX(-50%);\n",
    "    -ms-transform: translateX(-50%);\n",
    "    transform: translateX(-50%);\n",
    "}\n",
    "\n",
    "[data-testid=\"stMetricDeltaIcon-Down\"] {\n",
    "    position: relative;\n",
    "    left: 38%;\n",
    "    -webkit-transform: translateX(-50%);\n",
    "    -ms-transform: translateX(-50%);\n",
    "    transform: translateX(-50%);\n",
    "}\n",
    "\n",
    "</style>\n",
    "\"\"\", unsafe_allow_html=True)\n",
    "\n"
   ]
  },
  {
   "cell_type": "code",
   "execution_count": 27,
   "id": "030f20a5",
   "metadata": {},
   "outputs": [],
   "source": [
    "# Load data\n",
    "df_reshaped = pd.read_csv('us-population-2010-2019-reshaped.csv')"
   ]
  },
  {
   "cell_type": "code",
   "execution_count": 15,
   "id": "08f5fed8",
   "metadata": {},
   "outputs": [],
   "source": [
    "# Sidebar\n",
    "with st.sidebar:\n",
    "    st.title('🏂 US Population Dashboard')\n",
    "    \n",
    "    year_list = list(df_reshaped.year.unique())[::-1]\n",
    "    \n",
    "    selected_year = st.selectbox('Select a year', year_list)\n",
    "    df_selected_year = df_reshaped[df_reshaped.year == selected_year]\n",
    "    df_selected_year_sorted = df_selected_year.sort_values(by=\"population\", ascending=False)\n",
    "\n",
    "    color_theme_list = ['blues', 'cividis', 'greens', 'inferno', 'magma', 'plasma', 'reds', 'rainbow', 'turbo', 'viridis']\n",
    "    selected_color_theme = st.selectbox('Select a color theme', color_theme_list)"
   ]
  },
  {
   "cell_type": "code",
   "execution_count": 16,
   "id": "328d26ff",
   "metadata": {},
   "outputs": [],
   "source": [
    "# Plots\n",
    "\n",
    "# Heatmap\n",
    "def make_heatmap(input_df, input_y, input_x, input_color, input_color_theme):\n",
    "    heatmap = alt.Chart(input_df).mark_rect().encode(\n",
    "            y=alt.Y(f'{input_y}:O', axis=alt.Axis(title=\"Year\", titleFontSize=18, titlePadding=15, titleFontWeight=900, labelAngle=0)),\n",
    "            x=alt.X(f'{input_x}:O', axis=alt.Axis(title=\"\", titleFontSize=18, titlePadding=15, titleFontWeight=900)),\n",
    "            color=alt.Color(f'max({input_color}):Q',\n",
    "                             legend=None,\n",
    "                             scale=alt.Scale(scheme=input_color_theme)),\n",
    "            stroke=alt.value('black'),\n",
    "            strokeWidth=alt.value(0.25),\n",
    "        ).properties(width=900\n",
    "        ).configure_axis(\n",
    "        labelFontSize=12,\n",
    "        titleFontSize=12\n",
    "        ) \n",
    "    # height=300\n",
    "    return heatmap\n"
   ]
  },
  {
   "cell_type": "code",
   "execution_count": 28,
   "id": "7a8f22b2",
   "metadata": {},
   "outputs": [],
   "source": [
    "# Choropleth map\n",
    "def make_choropleth(input_df, input_id, input_column, input_color_theme):\n",
    "    choropleth = px.choropleth(input_df, locations=input_id, color=input_column, locationmode=\"USA-states\",\n",
    "                               color_continuous_scale=input_color_theme,\n",
    "                               range_color=(0, max(df_selected_year.population)),\n",
    "                               scope=\"usa\",\n",
    "                               labels={'population':'Population'}\n",
    "                              )\n",
    "    choropleth.update_layout(\n",
    "        template='plotly_dark',\n",
    "        plot_bgcolor='rgba(0, 0, 0, 0)',\n",
    "        paper_bgcolor='rgba(0, 0, 0, 0)',\n",
    "        margin=dict(l=0, r=0, t=0, b=0),\n",
    "        height=350\n",
    "    )\n",
    "    return choropleth"
   ]
  },
  {
   "cell_type": "code",
   "execution_count": 25,
   "id": "2d25dd24",
   "metadata": {},
   "outputs": [
    {
     "ename": "IndentationError",
     "evalue": "unindent does not match any outer indentation level (<tokenize>, line 32)",
     "output_type": "error",
     "traceback": [
      "\u001b[1;36m  File \u001b[1;32m<tokenize>:32\u001b[1;36m\u001b[0m\n\u001b[1;33m    text = plot.mark_text(align='center', color=\"#29b5e8\", font=\"Lato\", fontSize=32, fontWeight=700, fontStyle=\"italic\").encode(text=alt.value(f'{input_response} %'))\u001b[0m\n\u001b[1;37m    ^\u001b[0m\n\u001b[1;31mIndentationError\u001b[0m\u001b[1;31m:\u001b[0m unindent does not match any outer indentation level\n"
     ]
    }
   ],
   "source": []
  },
  {
   "cell_type": "code",
   "execution_count": 26,
   "id": "1c38894a",
   "metadata": {},
   "outputs": [
    {
     "ename": "NameError",
     "evalue": "name 'calculate_population_difference' is not defined",
     "output_type": "error",
     "traceback": [
      "\u001b[1;31m---------------------------------------------------------------------------\u001b[0m",
      "\u001b[1;31mNameError\u001b[0m                                 Traceback (most recent call last)",
      "Cell \u001b[1;32mIn[26], line 7\u001b[0m\n\u001b[0;32m      4\u001b[0m \u001b[38;5;28;01mwith\u001b[39;00m col[\u001b[38;5;241m0\u001b[39m]:\n\u001b[0;32m      5\u001b[0m    st\u001b[38;5;241m.\u001b[39mmarkdown(\u001b[38;5;124m'\u001b[39m\u001b[38;5;124m#### Gains/Losses\u001b[39m\u001b[38;5;124m'\u001b[39m)\n\u001b[1;32m----> 7\u001b[0m    df_population_difference_sorted \u001b[38;5;241m=\u001b[39m calculate_population_difference(df_reshaped, selected_year)\n\u001b[0;32m      9\u001b[0m    \u001b[38;5;28;01mif\u001b[39;00m selected_year \u001b[38;5;241m>\u001b[39m \u001b[38;5;241m2010\u001b[39m:\n\u001b[0;32m     10\u001b[0m        first_state_name \u001b[38;5;241m=\u001b[39m df_population_difference_sorted\u001b[38;5;241m.\u001b[39mstates\u001b[38;5;241m.\u001b[39miloc[\u001b[38;5;241m0\u001b[39m]\n",
      "\u001b[1;31mNameError\u001b[0m: name 'calculate_population_difference' is not defined"
     ]
    }
   ],
   "source": []
  },
  {
   "cell_type": "code",
   "execution_count": null,
   "id": "5ec7aa7e",
   "metadata": {},
   "outputs": [],
   "source": []
  }
 ],
 "metadata": {
  "kernelspec": {
   "display_name": "Python 3 (ipykernel)",
   "language": "python",
   "name": "python3"
  },
  "language_info": {
   "codemirror_mode": {
    "name": "ipython",
    "version": 3
   },
   "file_extension": ".py",
   "mimetype": "text/x-python",
   "name": "python",
   "nbconvert_exporter": "python",
   "pygments_lexer": "ipython3",
   "version": "3.11.5"
  }
 },
 "nbformat": 4,
 "nbformat_minor": 5
}
